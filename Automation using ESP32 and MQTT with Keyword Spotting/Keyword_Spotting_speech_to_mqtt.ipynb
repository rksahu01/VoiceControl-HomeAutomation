{
 "cells": [
  {
   "cell_type": "code",
   "execution_count": null,
   "metadata": {
    "vscode": {
     "languageId": "plaintext"
    }
   },
   "outputs": [],
   "source": [
    "import vosk\n",
    "import pyaudio\n",
    "import json\n",
    "import paho.mqtt.client as mqtt\n",
    "\n",
    "# MQTT Configuration\n",
    "mqtt_broker = \"192.168.1.100\"  # Replace with your laptop's IP\n",
    "mqtt_topic = \"home/devices\"\n",
    "\n",
    "# Initialize MQTT Client\n",
    "mqtt_client = mqtt.Client()\n",
    "mqtt_client.connect(mqtt_broker, 1883)\n",
    "\n",
    "# Vosk Model Path (Ensure the model is extracted)\n",
    "model = vosk.Model(lang=\"en-in\")\n",
    "\n",
    "# Define keywords\n",
    "keywords = [\"on\", \"off\", \"fan\", \"kitchen\", \"hall\", \"bedroom\", \"light\", \"terminate\"]\n",
    "rec = vosk.KaldiRecognizer(model, 16000, json.dumps(keywords))\n",
    "\n",
    "# Initialize PyAudio\n",
    "p = pyaudio.PyAudio()\n",
    "stream = p.open(format=pyaudio.paInt16, channels=1, rate=16000, input=True, frames_per_buffer=512)\n",
    "\n",
    "# Function to send command via MQTT\n",
    "def send_command(command):\n",
    "    mqtt_client.publish(mqtt_topic, command)\n",
    "    print(f\"Sent command: {command}\")\n",
    "\n",
    "# Function to handle recognized text\n",
    "def process_command(recognized_text):\n",
    "    recognized_text = recognized_text.lower()\n",
    "    \n",
    "    if \"terminate\" in recognized_text:\n",
    "        print(\"Termination keyword detected. Stopping...\")\n",
    "        return \"terminate\"\n",
    "    \n",
    "    # Map recognized speech to specific MQTT commands\n",
    "    if \"on hall\" in recognized_text:\n",
    "        send_command(\"on hall\")\n",
    "    elif \"off hall\" in recognized_text:\n",
    "        send_command(\"off hall\")\n",
    "    elif \"on kitchen\" in recognized_text:\n",
    "        send_command(\"on kitchen\")\n",
    "    elif \"off kitchen\" in recognized_text:\n",
    "        send_command(\"off kitchen\")\n",
    "    elif \"on bedroom\" in recognized_text:\n",
    "        send_command(\"on bedroom\")\n",
    "    elif \"off bedroom\" in recognized_text:\n",
    "        send_command(\"off bedroom\")\n",
    "    elif \"on fan\" in recognized_text:\n",
    "        send_command(\"on fan\")\n",
    "    elif \"off fan\" in recognized_text:\n",
    "        send_command(\"off fan\")\n",
    "    \n",
    "    return None\n",
    "\n",
    "# Start Listening for Speech\n",
    "print(\"Listening for commands. Say 'Terminate' to stop.\")\n",
    "try:\n",
    "    while True:\n",
    "        data = stream.read(512, exception_on_overflow=False)\n",
    "        \n",
    "        if rec.AcceptWaveform(data):\n",
    "            result = json.loads(rec.Result())\n",
    "            recognized_text = result.get('text', \"\")\n",
    "            \n",
    "            if recognized_text:\n",
    "                print(f\"Recognized: {recognized_text}\")\n",
    "                if process_command(recognized_text) == \"terminate\":\n",
    "                    break\n",
    "\n",
    "finally:\n",
    "    stream.stop_stream()\n",
    "    stream.close()\n",
    "    p.terminate()\n",
    "    mqtt_client.disconnect()\n",
    "    print(\"Disconnected from MQTT broker.\")\n"
   ]
  },
  {
   "cell_type": "code",
   "execution_count": null,
   "metadata": {
    "vscode": {
     "languageId": "plaintext"
    }
   },
   "outputs": [],
   "source": []
  }
 ],
 "metadata": {
  "language_info": {
   "name": "python"
  }
 },
 "nbformat": 4,
 "nbformat_minor": 2
}
